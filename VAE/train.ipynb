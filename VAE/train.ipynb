{
  "cells": [
    {
      "cell_type": "markdown",
      "metadata": {
        "id": "2kgxUtYvceJm"
      },
      "source": [
        "# Description\n",
        "\n",
        "This section is for training the VAE implemented in the VAE.py file"
      ]
    },
    {
      "cell_type": "markdown",
      "metadata": {
        "id": "TOH41CK1ceJn"
      },
      "source": [
        "# Imports"
      ]
    },
    {
      "cell_type": "code",
      "execution_count": 1,
      "metadata": {
        "id": "4HsBgCJoceJn"
      },
      "outputs": [],
      "source": [
        "import torch\n",
        "import math\n",
        "import torch.nn as nn\n",
        "from loss_function import vae_loss\n",
        "from torchvision import transforms\n",
        "import numpy as np\n",
        "from dataset import PatternDB\n",
        "import matplotlib.pyplot as plt\n",
        "from torch.utils.data import DataLoader\n",
        "from VAE import VAE\n",
        "import gc\n",
        "from utils import display_images"
      ]
    },
    {
      "cell_type": "markdown",
      "metadata": {
        "id": "QuM8oALPceJo"
      },
      "source": [
        "# Start"
      ]
    },
    {
      "cell_type": "code",
      "execution_count": 2,
      "metadata": {
        "id": "aPf_VkwVceJo"
      },
      "outputs": [],
      "source": [
        "DATA_PATH = \"../data/train\"\n",
        "BATCH_SIZE = 32\n",
        "INPUT_SHAPE = 512"
      ]
    },
    {
      "cell_type": "code",
      "execution_count": 3,
      "metadata": {
        "id": "GSQcP3j2ceJo"
      },
      "outputs": [],
      "source": [
        "transform = transforms.Compose([\n",
        "    transforms.Resize((INPUT_SHAPE, INPUT_SHAPE)),\n",
        "    transforms.ToTensor(),\n",
        "    transforms.Normalize(mean=[0.5, 0.5, 0.5], std=[0.5, 0.5, 0.5])\n",
        "])"
      ]
    },
    {
      "cell_type": "code",
      "execution_count": 4,
      "metadata": {
        "id": "jCT8DNPIceJo"
      },
      "outputs": [],
      "source": [
        "dataset = PatternDB(data_path=DATA_PATH, transform=transform)"
      ]
    },
    {
      "cell_type": "code",
      "execution_count": 5,
      "metadata": {
        "id": "TtO_EQk3ceJo"
      },
      "outputs": [],
      "source": [
        "dataloader = DataLoader(dataset=dataset, batch_size=BATCH_SIZE, shuffle=True, pin_memory=True)"
      ]
    },
    {
      "cell_type": "code",
      "execution_count": 6,
      "metadata": {
        "colab": {
          "base_uri": "https://localhost:8080/"
        },
        "id": "AKkuJc_UceJo",
        "outputId": "8b3c7af4-fe18-4cd8-d12d-c0f7c28cc634"
      },
      "outputs": [
        {
          "data": {
            "text/plain": [
              "device(type='cuda')"
            ]
          },
          "execution_count": 6,
          "metadata": {},
          "output_type": "execute_result"
        }
      ],
      "source": [
        "device = torch.device(\"cuda\" if torch.cuda.is_available() else \"cpu\")\n",
        "device"
      ]
    },
    {
      "cell_type": "code",
      "execution_count": 13,
      "metadata": {
        "id": "gRdSY6zpceJp"
      },
      "outputs": [
        {
          "name": "stdout",
          "output_type": "stream",
          "text": [
            "Bottleneck size: 32768\n"
          ]
        },
        {
          "name": "stderr",
          "output_type": "stream",
          "text": [
            "C:\\Users\\acer\\AppData\\Local\\Temp\\ipykernel_8648\\1301243682.py:2: FutureWarning: You are using `torch.load` with `weights_only=False` (the current default value), which uses the default pickle module implicitly. It is possible to construct malicious pickle data which will execute arbitrary code during unpickling (See https://github.com/pytorch/pytorch/blob/main/SECURITY.md#untrusted-models for more details). In a future release, the default value for `weights_only` will be flipped to `True`. This limits the functions that could be executed during unpickling. Arbitrary objects will no longer be allowed to be loaded via this mode unless they are explicitly allowlisted by the user via `torch.serialization.add_safe_globals`. We recommend you start setting `weights_only=True` for any use case where you don't have full control of the loaded file. Please open an issue on GitHub for any issues related to this experimental feature.\n",
            "  vae.load_state_dict(torch.load(f\"vae_model_epoch_latest.pth\", map_location=device))\n"
          ]
        },
        {
          "data": {
            "text/plain": [
              "<All keys matched successfully>"
            ]
          },
          "execution_count": 13,
          "metadata": {},
          "output_type": "execute_result"
        }
      ],
      "source": [
        "vae = VAE(input_size=INPUT_SHAPE, in_channel=3, latent_space_dim=[1024], device=device, kernel_size=4, features=[16, 32, 64, 128, 256, 512])\n",
        "vae.load_state_dict(torch.load(f\"vae_model_epoch_latest.pth\", map_location=device))"
      ]
    },
    {
      "cell_type": "code",
      "execution_count": 8,
      "metadata": {},
      "outputs": [],
      "source": [
        "def anneal(current_epoch, total_epochs):\n",
        "   \n",
        "    return min(1,current_epoch/total_epochs)"
      ]
    },
    {
      "cell_type": "code",
      "execution_count": 9,
      "metadata": {
        "id": "W07ddxEbceJp"
      },
      "outputs": [],
      "source": [
        "def train_one(model, loss_fn, optimizer, dataloader, device, total_epochs, current_epoch):\n",
        "\n",
        "    running_loss = 0.0\n",
        "    recon = 0.0\n",
        "    edge = 0.0\n",
        "    kl = 0.0\n",
        "    beta = anneal(current_epoch, total_epochs)\n",
        "\n",
        "    for i, data in enumerate(dataloader):\n",
        "\n",
        "        optimizer.zero_grad()\n",
        "        data = data.to(device)\n",
        "\n",
        "        mu, log_var = model.encode(data)\n",
        "\n",
        "\n",
        "        z = model._reparameterize(mu, log_var)\n",
        "\n",
        "\n",
        "        reconstructed = model.decode(z)\n",
        "\n",
        "\n",
        "        loss, recon_loss, edge_loss, kl_loss  = loss_fn(data, reconstructed, mu, log_var, beta)\n",
        "        loss.backward()\n",
        "        torch.nn.utils.clip_grad_norm_(model.parameters(), max_norm=1.0)\n",
        "        optimizer.step()\n",
        "\n",
        "\n",
        "        running_loss+=loss.item()\n",
        "        recon+=recon_loss\n",
        "        edge+=edge_loss\n",
        "        kl += kl_loss\n",
        "        print(f\"Batch {i+1} loss (total): {loss.item()}\\n\")\n",
        "      #  torch.cuda.empty_cache()\n",
        "    return running_loss/len(dataloader), recon/len(dataloader), edge/len(dataloader), kl/len(dataloader)\n"
      ]
    },
    {
      "cell_type": "code",
      "execution_count": 10,
      "metadata": {
        "id": "VpnNDuvnceJp"
      },
      "outputs": [],
      "source": [
        "def train(model, train_loader, loss_fn, optimizer, device, epochs):\n",
        "\n",
        "\n",
        "    model.to(device)\n",
        "\n",
        "\n",
        "    for epoch in range(epochs):\n",
        "        \n",
        "\n",
        "        print(f'EPOCH {epoch+1}:')\n",
        "\n",
        "        model.train(True)\n",
        "        avg_loss, recon_loss, edge_loss, kl_loss= train_one(model, loss_fn, optimizer, dataloader, device, epochs, epoch+1)\n",
        "        print(f'Average loss: {avg_loss}, Average recon_loss: {recon_loss}, Average edge loss: {edge_loss} Average KL loss {kl_loss}\\n\\n')\n",
        "        \n",
        "        print(f\"Model result after epoch {epoch+1}\")\n",
        "        display_images(vae, dataloader, device)\n",
        "\n",
        "        if (epoch+1) % 10 == 0:\n",
        "            torch.save(model.state_dict(), f\"vae_model_epoch_latest.pth\")\n"
      ]
    },
    {
      "cell_type": "code",
      "execution_count": 11,
      "metadata": {
        "id": "7aF1Aw4mceJq"
      },
      "outputs": [],
      "source": [
        "optimizer = torch.optim.Adam(params=vae.parameters(), lr=0.00005, eps=1e-8)\n",
        "loss_fn = vae_loss(device=device)"
      ]
    },
    {
      "cell_type": "code",
      "execution_count": null,
      "metadata": {
        "colab": {
          "base_uri": "https://localhost:8080/",
          "height": 315
        },
        "id": "5D-i1a1qceJq",
        "outputId": "75e2d565-a4a3-4b33-b096-0e82373f343c"
      },
      "outputs": [],
      "source": [
        "train(vae, dataloader, loss_fn, optimizer, device, epochs=300)"
      ]
    }
  ],
  "metadata": {
    "accelerator": "GPU",
    "colab": {
      "gpuType": "T4",
      "provenance": []
    },
    "kernelspec": {
      "display_name": "venv",
      "language": "python",
      "name": "python3"
    },
    "language_info": {
      "codemirror_mode": {
        "name": "ipython",
        "version": 3
      },
      "file_extension": ".py",
      "mimetype": "text/x-python",
      "name": "python",
      "nbconvert_exporter": "python",
      "pygments_lexer": "ipython3",
      "version": "3.12.0"
    }
  },
  "nbformat": 4,
  "nbformat_minor": 0
}
